{
 "cells": [
  {
   "cell_type": "markdown",
   "metadata": {},
   "source": [
    "# Ingesting Data Into The Cloud\n",
    "\n",
    "TODO: Describe scenario"
   ]
  },
  {
   "cell_type": "markdown",
   "metadata": {},
   "source": [
    "<img src=\"img/ingest_data1.png\" width=\"90%\">"
   ]
  },
  {
   "cell_type": "markdown",
   "metadata": {},
   "source": [
    "## Step 0\n",
    "* COPY TSV data from S3 to our default bucket /prefix (!aws s3 cp...) (check if YEAR data was in TSV)\n",
    "* CONVERT TSV to Parquet (with Athena)\n",
    "\n",
    "\n",
    "## Step 1 -- STREAMING Automation\n",
    "* Try to trigger upon simulating new data arrival into Kinesis.  ie. we simulate adding a new partition for each year (or smaller time frame)\n",
    "* Convert TSV to Parquet as it arrives\n",
    "* LOAD TSV data from S3 to redshift as it arrives\n",
    "\n",
    "\n",
    "## Step 2 -- BI & Data Analytics\n",
    "\n",
    "BI\n",
    "* LOAD TSV data from S3 to redshift \n",
    "* QUERY redshift (include YEAR to check if TSV has year)\n",
    "* UNLOAD Parquet data from redshift to S3\n",
    "\n",
    "Data Analytics\n",
    "* CTAS (Athena -- creating pointer to S3 location)\n",
    "* Query Athena\n",
    "* Check 01_create_database.sql && 02_create_table.sql from Athena Repo\n",
    "\n",
    "\n",
    "## Step 2/3 -- BATCH Automation\n",
    "Ingestion of TSV through Glue and/or StepFunction & DataWrangler (ie. S3 Trigger + Lambda or perhap S3 has native integration to invoke StepFunction?  or native integration to invoke Glue?  or Glue cron job)\n",
    "* Try to trigger upon simulating new data arrival into s3.  ie. we simulate adding a new partition for each year.\n",
    "* Convert TSV to Parquet as it arrives\n",
    "* LOAD TSV data from S3 to redshift as it arrives\n"
   ]
  }
 ],
 "metadata": {
  "kernelspec": {
   "display_name": "conda_python3",
   "language": "python",
   "name": "conda_python3"
  },
  "language_info": {
   "codemirror_mode": {
    "name": "ipython",
    "version": 3
   },
   "file_extension": ".py",
   "mimetype": "text/x-python",
   "name": "python",
   "nbconvert_exporter": "python",
   "pygments_lexer": "ipython3",
   "version": "3.6.5"
  }
 },
 "nbformat": 4,
 "nbformat_minor": 4
}
