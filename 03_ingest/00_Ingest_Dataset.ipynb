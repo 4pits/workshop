{
 "cells": [
  {
   "cell_type": "markdown",
   "metadata": {},
   "source": [
    "# Ingesting Data Into The Cloud"
   ]
  },
  {
   "cell_type": "markdown",
   "metadata": {},
   "source": [
    "## TODO's\n",
    "\n",
    "## Step 0\n",
    "* COPY TSV data from S3 to our default bucket /prefix (!aws s3 cp...) (check if YEAR data was in TSV)\n",
    "* CONVERT TSV to Parquet (with Athena)\n",
    "\n",
    "## Step 2\n",
    "\n",
    "BI\n",
    "* LOAD TSV data from S3 to redshift \n",
    "* QUERY redshift (include YEAR to check if TSV has year)\n",
    "* UNLOAD Parquet data from redshift to S3\n",
    "\n",
    "Data Analytics\n",
    "* CTAS (Athena -- creating pointer to S3 location)\n",
    "* Query Athena\n",
    "* Check 01_create_database.sql && 02_create_table.sql from Athena Repo\n",
    "\n",
    "\n",
    "## Step 2/3 -- BATCH Automation\n",
    "Ingestion of TSV through Glue and/or StepFunction & DataWrangler (ie. S3 Trigger + Lambda or perhap S3 has native integration to invoke StepFunction?  or native integration to invoke Glue?  or Glue cron job)\n",
    "* Try to trigger upon simulating new data arrival into s3.  ie. we simulate adding a new partition for each year.\n",
    "* Convert TSV to Parquet as it arrives\n",
    "* LOAD TSV data from S3 to redshift as it arrives\n",
    "\n",
    "\n",
    "## Step 1 -- STREAMING Automation\n",
    "* Try to trigger upon simulating new data arrival into Kinesis.  ie. we simulate adding a new partition for each year (or smaller time frame)\n",
    "* Convert TSV to Parquet as it arrives\n",
    "* LOAD TSV data from S3 to redshift as it arrives\n"
   ]
  },
  {
   "cell_type": "markdown",
   "metadata": {},
   "source": [
    "## Imports"
   ]
  },
  {
   "cell_type": "code",
   "execution_count": 15,
   "metadata": {},
   "outputs": [],
   "source": [
    "# Imports & Settings\n",
    "import boto3\n",
    "# import botocore\n",
    "import sagemaker\n",
    "\n",
    "# import numpy as np\n",
    "# import pandas as pd\n",
    "\n",
    "# Get region \n",
    "session = boto3.session.Session()\n",
    "region_name = session.region_name\n",
    "\n",
    "# Get SageMaker session & default S3 bucket\n",
    "sagemaker_session = sagemaker.Session()\n",
    "bucket = sagemaker_session.default_bucket()\n",
    "\n",
    "# Set S3 prefixes\n",
    "tsv_prefix = 'amazon-reviews-pds/tsv'\n",
    "parquet_prefix = 'amazon-reviews-pds/parquet'\n",
    "\n",
    "# Set Redshift params \n",
    "database_name = 'dsoaws'\n",
    "table_name = 'amazon_reviews_parquet'"
   ]
  },
  {
   "cell_type": "markdown",
   "metadata": {},
   "source": [
    "## Step 0 -- Copy Dataset To S3 Bucket & Convert To Parquet"
   ]
  },
  {
   "cell_type": "code",
   "execution_count": 17,
   "metadata": {},
   "outputs": [],
   "source": [
    "# Set S3 source paths\n",
    "s3_source_path_tsv = 's3://amazon-reviews-pds/tsv'\n",
    "s3_source_path_parquet = 's3://amazon-reviews-pds/parquet'\n",
    "\n",
    "# Set S3 destination paths\n",
    "s3_destination_path_tsv = 's3://{}/{}'.format(bucket, tsv_prefix)\n",
    "s3_destination_path_parquet = 's3://{}/{}'.format(bucket, parquet_prefix)"
   ]
  },
  {
   "cell_type": "code",
   "execution_count": 10,
   "metadata": {},
   "outputs": [
    {
     "name": "stdout",
     "output_type": "stream",
     "text": [
      "copy: s3://amazon-reviews-pds/tsv/amazon_reviews_multilingual_FR_v1_00.tsv.gz to s3://sagemaker-us-east-1-806570384721/amazon-reviews-pds/tsv/amazon_reviews_multilingual_FR_v1_00.tsv.gz\n",
      "copy: s3://amazon-reviews-pds/tsv/amazon_reviews_multilingual_JP_v1_00.tsv.gz to s3://sagemaker-us-east-1-806570384721/amazon-reviews-pds/tsv/amazon_reviews_multilingual_JP_v1_00.tsv.gz\n",
      "copy: s3://amazon-reviews-pds/tsv/amazon_reviews_multilingual_DE_v1_00.tsv.gz to s3://sagemaker-us-east-1-806570384721/amazon-reviews-pds/tsv/amazon_reviews_multilingual_DE_v1_00.tsv.gz\n",
      "copy: s3://amazon-reviews-pds/tsv/amazon_reviews_multilingual_UK_v1_00.tsv.gz to s3://sagemaker-us-east-1-806570384721/amazon-reviews-pds/tsv/amazon_reviews_multilingual_UK_v1_00.tsv.gz\n",
      "copy: s3://amazon-reviews-pds/tsv/amazon_reviews_us_Baby_v1_00.tsv.gz to s3://sagemaker-us-east-1-806570384721/amazon-reviews-pds/tsv/amazon_reviews_us_Baby_v1_00.tsv.gz\n",
      "copy: s3://amazon-reviews-pds/tsv/amazon_reviews_us_Automotive_v1_00.tsv.gz to s3://sagemaker-us-east-1-806570384721/amazon-reviews-pds/tsv/amazon_reviews_us_Automotive_v1_00.tsv.gz\n",
      "copy: s3://amazon-reviews-pds/tsv/amazon_reviews_us_Apparel_v1_00.tsv.gz to s3://sagemaker-us-east-1-806570384721/amazon-reviews-pds/tsv/amazon_reviews_us_Apparel_v1_00.tsv.gz\n",
      "copy: s3://amazon-reviews-pds/tsv/amazon_reviews_us_Beauty_v1_00.tsv.gz to s3://sagemaker-us-east-1-806570384721/amazon-reviews-pds/tsv/amazon_reviews_us_Beauty_v1_00.tsv.gz\n",
      "copy: s3://amazon-reviews-pds/tsv/amazon_reviews_multilingual_US_v1_00.tsv.gz to s3://sagemaker-us-east-1-806570384721/amazon-reviews-pds/tsv/amazon_reviews_multilingual_US_v1_00.tsv.gz\n",
      "copy: s3://amazon-reviews-pds/tsv/amazon_reviews_us_Camera_v1_00.tsv.gz to s3://sagemaker-us-east-1-806570384721/amazon-reviews-pds/tsv/amazon_reviews_us_Camera_v1_00.tsv.gz\n",
      "copy: s3://amazon-reviews-pds/tsv/amazon_reviews_us_Books_v1_02.tsv.gz to s3://sagemaker-us-east-1-806570384721/amazon-reviews-pds/tsv/amazon_reviews_us_Books_v1_02.tsv.gz\n",
      "copy: s3://amazon-reviews-pds/tsv/amazon_reviews_us_Digital_Music_Purchase_v1_00.tsv.gz to s3://sagemaker-us-east-1-806570384721/amazon-reviews-pds/tsv/amazon_reviews_us_Digital_Music_Purchase_v1_00.tsv.gz\n",
      "copy: s3://amazon-reviews-pds/tsv/amazon_reviews_us_Digital_Software_v1_00.tsv.gz to s3://sagemaker-us-east-1-806570384721/amazon-reviews-pds/tsv/amazon_reviews_us_Digital_Software_v1_00.tsv.gz\n",
      "copy: s3://amazon-reviews-pds/tsv/amazon_reviews_us_Digital_Video_Download_v1_00.tsv.gz to s3://sagemaker-us-east-1-806570384721/amazon-reviews-pds/tsv/amazon_reviews_us_Digital_Video_Download_v1_00.tsv.gz\n",
      "copy: s3://amazon-reviews-pds/tsv/amazon_reviews_us_Digital_Video_Games_v1_00.tsv.gz to s3://sagemaker-us-east-1-806570384721/amazon-reviews-pds/tsv/amazon_reviews_us_Digital_Video_Games_v1_00.tsv.gz\n",
      "copy: s3://amazon-reviews-pds/tsv/amazon_reviews_us_Digital_Ebook_Purchase_v1_01.tsv.gz to s3://sagemaker-us-east-1-806570384721/amazon-reviews-pds/tsv/amazon_reviews_us_Digital_Ebook_Purchase_v1_01.tsv.gz\n",
      "copy: s3://amazon-reviews-pds/tsv/amazon_reviews_us_Furniture_v1_00.tsv.gz to s3://sagemaker-us-east-1-806570384721/amazon-reviews-pds/tsv/amazon_reviews_us_Furniture_v1_00.tsv.gz\n",
      "copy: s3://amazon-reviews-pds/tsv/amazon_reviews_us_Gift_Card_v1_00.tsv.gz to s3://sagemaker-us-east-1-806570384721/amazon-reviews-pds/tsv/amazon_reviews_us_Gift_Card_v1_00.tsv.gz\n",
      "copy: s3://amazon-reviews-pds/tsv/amazon_reviews_us_Books_v1_00.tsv.gz to s3://sagemaker-us-east-1-806570384721/amazon-reviews-pds/tsv/amazon_reviews_us_Books_v1_00.tsv.gz\n",
      "copy: s3://amazon-reviews-pds/tsv/amazon_reviews_us_Books_v1_01.tsv.gz to s3://sagemaker-us-east-1-806570384721/amazon-reviews-pds/tsv/amazon_reviews_us_Books_v1_01.tsv.gz\n",
      "copy: s3://amazon-reviews-pds/tsv/amazon_reviews_us_Grocery_v1_00.tsv.gz to s3://sagemaker-us-east-1-806570384721/amazon-reviews-pds/tsv/amazon_reviews_us_Grocery_v1_00.tsv.gz\n",
      "copy: s3://amazon-reviews-pds/tsv/amazon_reviews_us_Electronics_v1_00.tsv.gz to s3://sagemaker-us-east-1-806570384721/amazon-reviews-pds/tsv/amazon_reviews_us_Electronics_v1_00.tsv.gz\n",
      "copy: s3://amazon-reviews-pds/tsv/amazon_reviews_us_Jewelry_v1_00.tsv.gz to s3://sagemaker-us-east-1-806570384721/amazon-reviews-pds/tsv/amazon_reviews_us_Jewelry_v1_00.tsv.gz\n",
      "copy: s3://amazon-reviews-pds/tsv/amazon_reviews_us_Home_Improvement_v1_00.tsv.gz to s3://sagemaker-us-east-1-806570384721/amazon-reviews-pds/tsv/amazon_reviews_us_Home_Improvement_v1_00.tsv.gz\n",
      "copy: s3://amazon-reviews-pds/tsv/amazon_reviews_us_Digital_Ebook_Purchase_v1_00.tsv.gz to s3://sagemaker-us-east-1-806570384721/amazon-reviews-pds/tsv/amazon_reviews_us_Digital_Ebook_Purchase_v1_00.tsv.gz\n",
      "copy: s3://amazon-reviews-pds/tsv/amazon_reviews_us_Home_Entertainment_v1_00.tsv.gz to s3://sagemaker-us-east-1-806570384721/amazon-reviews-pds/tsv/amazon_reviews_us_Home_Entertainment_v1_00.tsv.gz\n",
      "copy: s3://amazon-reviews-pds/tsv/amazon_reviews_us_Luggage_v1_00.tsv.gz to s3://sagemaker-us-east-1-806570384721/amazon-reviews-pds/tsv/amazon_reviews_us_Luggage_v1_00.tsv.gz\n",
      "copy: s3://amazon-reviews-pds/tsv/amazon_reviews_us_Major_Appliances_v1_00.tsv.gz to s3://sagemaker-us-east-1-806570384721/amazon-reviews-pds/tsv/amazon_reviews_us_Major_Appliances_v1_00.tsv.gz\n",
      "copy: s3://amazon-reviews-pds/tsv/amazon_reviews_us_Mobile_Electronics_v1_00.tsv.gz to s3://sagemaker-us-east-1-806570384721/amazon-reviews-pds/tsv/amazon_reviews_us_Mobile_Electronics_v1_00.tsv.gz\n",
      "copy: s3://amazon-reviews-pds/tsv/amazon_reviews_us_Health_Personal_Care_v1_00.tsv.gz to s3://sagemaker-us-east-1-806570384721/amazon-reviews-pds/tsv/amazon_reviews_us_Health_Personal_Care_v1_00.tsv.gz\n",
      "copy: s3://amazon-reviews-pds/tsv/amazon_reviews_us_Lawn_and_Garden_v1_00.tsv.gz to s3://sagemaker-us-east-1-806570384721/amazon-reviews-pds/tsv/amazon_reviews_us_Lawn_and_Garden_v1_00.tsv.gz\n",
      "copy: s3://amazon-reviews-pds/tsv/amazon_reviews_us_Home_v1_00.tsv.gz to s3://sagemaker-us-east-1-806570384721/amazon-reviews-pds/tsv/amazon_reviews_us_Home_v1_00.tsv.gz\n",
      "copy: s3://amazon-reviews-pds/tsv/amazon_reviews_us_Mobile_Apps_v1_00.tsv.gz to s3://sagemaker-us-east-1-806570384721/amazon-reviews-pds/tsv/amazon_reviews_us_Mobile_Apps_v1_00.tsv.gz\n",
      "copy: s3://amazon-reviews-pds/tsv/amazon_reviews_us_Musical_Instruments_v1_00.tsv.gz to s3://sagemaker-us-east-1-806570384721/amazon-reviews-pds/tsv/amazon_reviews_us_Musical_Instruments_v1_00.tsv.gz\n",
      "copy: s3://amazon-reviews-pds/tsv/amazon_reviews_us_Personal_Care_Appliances_v1_00.tsv.gz to s3://sagemaker-us-east-1-806570384721/amazon-reviews-pds/tsv/amazon_reviews_us_Personal_Care_Appliances_v1_00.tsv.gz\n",
      "copy: s3://amazon-reviews-pds/tsv/amazon_reviews_us_Kitchen_v1_00.tsv.gz to s3://sagemaker-us-east-1-806570384721/amazon-reviews-pds/tsv/amazon_reviews_us_Kitchen_v1_00.tsv.gz\n",
      "copy: s3://amazon-reviews-pds/tsv/amazon_reviews_us_Office_Products_v1_00.tsv.gz to s3://sagemaker-us-east-1-806570384721/amazon-reviews-pds/tsv/amazon_reviews_us_Office_Products_v1_00.tsv.gz\n",
      "copy: s3://amazon-reviews-pds/tsv/amazon_reviews_us_Outdoors_v1_00.tsv.gz to s3://sagemaker-us-east-1-806570384721/amazon-reviews-pds/tsv/amazon_reviews_us_Outdoors_v1_00.tsv.gz\n",
      "copy: s3://amazon-reviews-pds/tsv/amazon_reviews_us_Software_v1_00.tsv.gz to s3://sagemaker-us-east-1-806570384721/amazon-reviews-pds/tsv/amazon_reviews_us_Software_v1_00.tsv.gz\n",
      "copy: s3://amazon-reviews-pds/tsv/amazon_reviews_us_Pet_Products_v1_00.tsv.gz to s3://sagemaker-us-east-1-806570384721/amazon-reviews-pds/tsv/amazon_reviews_us_Pet_Products_v1_00.tsv.gz\n",
      "copy: s3://amazon-reviews-pds/tsv/amazon_reviews_us_Tools_v1_00.tsv.gz to s3://sagemaker-us-east-1-806570384721/amazon-reviews-pds/tsv/amazon_reviews_us_Tools_v1_00.tsv.gz\n",
      "copy: s3://amazon-reviews-pds/tsv/amazon_reviews_us_Music_v1_00.tsv.gz to s3://sagemaker-us-east-1-806570384721/amazon-reviews-pds/tsv/amazon_reviews_us_Music_v1_00.tsv.gz\n",
      "copy: s3://amazon-reviews-pds/tsv/amazon_reviews_us_Shoes_v1_00.tsv.gz to s3://sagemaker-us-east-1-806570384721/amazon-reviews-pds/tsv/amazon_reviews_us_Shoes_v1_00.tsv.gz\n",
      "copy: s3://amazon-reviews-pds/tsv/amazon_reviews_us_Sports_v1_00.tsv.gz to s3://sagemaker-us-east-1-806570384721/amazon-reviews-pds/tsv/amazon_reviews_us_Sports_v1_00.tsv.gz\n",
      "copy: s3://amazon-reviews-pds/tsv/amazon_reviews_us_PC_v1_00.tsv.gz to s3://sagemaker-us-east-1-806570384721/amazon-reviews-pds/tsv/amazon_reviews_us_PC_v1_00.tsv.gz\n",
      "copy: s3://amazon-reviews-pds/tsv/amazon_reviews_us_Video_Games_v1_00.tsv.gz to s3://sagemaker-us-east-1-806570384721/amazon-reviews-pds/tsv/amazon_reviews_us_Video_Games_v1_00.tsv.gz\n",
      "copy: s3://amazon-reviews-pds/tsv/index.txt to s3://sagemaker-us-east-1-806570384721/amazon-reviews-pds/tsv/index.txt\n",
      "copy: s3://amazon-reviews-pds/tsv/amazon_reviews_us_Video_v1_00.tsv.gz to s3://sagemaker-us-east-1-806570384721/amazon-reviews-pds/tsv/amazon_reviews_us_Video_v1_00.tsv.gz\n",
      "copy: s3://amazon-reviews-pds/tsv/sample_fr.tsv to s3://sagemaker-us-east-1-806570384721/amazon-reviews-pds/tsv/sample_fr.tsv\n",
      "copy: s3://amazon-reviews-pds/tsv/sample_us.tsv to s3://sagemaker-us-east-1-806570384721/amazon-reviews-pds/tsv/sample_us.tsv\n",
      "copy: s3://amazon-reviews-pds/tsv/amazon_reviews_us_Watches_v1_00.tsv.gz to s3://sagemaker-us-east-1-806570384721/amazon-reviews-pds/tsv/amazon_reviews_us_Watches_v1_00.tsv.gz\n",
      "copy: s3://amazon-reviews-pds/tsv/amazon_reviews_us_Toys_v1_00.tsv.gz to s3://sagemaker-us-east-1-806570384721/amazon-reviews-pds/tsv/amazon_reviews_us_Toys_v1_00.tsv.gz\n",
      "copy: s3://amazon-reviews-pds/tsv/amazon_reviews_us_Video_DVD_v1_00.tsv.gz to s3://sagemaker-us-east-1-806570384721/amazon-reviews-pds/tsv/amazon_reviews_us_Video_DVD_v1_00.tsv.gz\n",
      "copy: s3://amazon-reviews-pds/tsv/amazon_reviews_us_Wireless_v1_00.tsv.gz to s3://sagemaker-us-east-1-806570384721/amazon-reviews-pds/tsv/amazon_reviews_us_Wireless_v1_00.tsv.gz\n"
     ]
    }
   ],
   "source": [
    "# Download dataset\n",
    "!aws s3 cp --recursive $s3_source_path_tsv/ $s3_destination_path_tsv/"
   ]
  },
  {
   "cell_type": "code",
   "execution_count": 11,
   "metadata": {},
   "outputs": [
    {
     "name": "stdout",
     "output_type": "stream",
     "text": [
      "2020-02-20 22:41:38  241896005 amazon_reviews_multilingual_DE_v1_00.tsv.gz\n",
      "2020-02-20 22:41:38   70583516 amazon_reviews_multilingual_FR_v1_00.tsv.gz\n",
      "2020-02-20 22:41:38   94688992 amazon_reviews_multilingual_JP_v1_00.tsv.gz\n",
      "2020-02-20 22:41:38  349370868 amazon_reviews_multilingual_UK_v1_00.tsv.gz\n",
      "2020-02-20 22:41:38 1466965039 amazon_reviews_multilingual_US_v1_00.tsv.gz\n",
      "2020-02-20 22:41:40  648641286 amazon_reviews_us_Apparel_v1_00.tsv.gz\n",
      "2020-02-20 22:41:40  582145299 amazon_reviews_us_Automotive_v1_00.tsv.gz\n",
      "2020-02-20 22:41:43  357392893 amazon_reviews_us_Baby_v1_00.tsv.gz\n",
      "2020-02-20 22:41:45  914070021 amazon_reviews_us_Beauty_v1_00.tsv.gz\n",
      "2020-02-20 22:41:50 2740337188 amazon_reviews_us_Books_v1_00.tsv.gz\n",
      "2020-02-20 22:41:53 2692708591 amazon_reviews_us_Books_v1_01.tsv.gz\n",
      "2020-02-20 22:41:53 1329539135 amazon_reviews_us_Books_v1_02.tsv.gz\n",
      "2020-02-20 22:42:06  442653086 amazon_reviews_us_Camera_v1_00.tsv.gz\n",
      "2020-02-20 22:42:11 2689739299 amazon_reviews_us_Digital_Ebook_Purchase_v1_00.tsv.gz\n",
      "2020-02-20 22:42:19 1294879074 amazon_reviews_us_Digital_Ebook_Purchase_v1_01.tsv.gz\n",
      "2020-02-20 22:42:28  253570168 amazon_reviews_us_Digital_Music_Purchase_v1_00.tsv.gz\n",
      "2020-02-20 22:42:33   18997559 amazon_reviews_us_Digital_Software_v1_00.tsv.gz\n",
      "2020-02-20 22:42:34  506979922 amazon_reviews_us_Digital_Video_Download_v1_00.tsv.gz\n",
      "2020-02-20 22:42:46   27442648 amazon_reviews_us_Digital_Video_Games_v1_00.tsv.gz\n",
      "2020-02-20 22:42:47  698828243 amazon_reviews_us_Electronics_v1_00.tsv.gz\n",
      "2020-02-20 22:42:48  148982796 amazon_reviews_us_Furniture_v1_00.tsv.gz\n",
      "2020-02-20 22:42:51   12134676 amazon_reviews_us_Gift_Card_v1_00.tsv.gz\n",
      "2020-02-20 22:42:51  401337166 amazon_reviews_us_Grocery_v1_00.tsv.gz\n",
      "2020-02-20 22:42:53 1011180212 amazon_reviews_us_Health_Personal_Care_v1_00.tsv.gz\n",
      "2020-02-20 22:42:54  193168458 amazon_reviews_us_Home_Entertainment_v1_00.tsv.gz\n",
      "2020-02-20 22:43:00  503339178 amazon_reviews_us_Home_Improvement_v1_00.tsv.gz\n",
      "2020-02-20 22:43:01 1081002012 amazon_reviews_us_Home_v1_00.tsv.gz\n",
      "2020-02-20 22:43:03  247022254 amazon_reviews_us_Jewelry_v1_00.tsv.gz\n",
      "2020-02-20 22:43:10  930744854 amazon_reviews_us_Kitchen_v1_00.tsv.gz\n",
      "2020-02-20 22:43:14  486772662 amazon_reviews_us_Lawn_and_Garden_v1_00.tsv.gz\n",
      "2020-02-20 22:43:14   60320191 amazon_reviews_us_Luggage_v1_00.tsv.gz\n",
      "2020-02-20 22:43:16   24359816 amazon_reviews_us_Major_Appliances_v1_00.tsv.gz\n",
      "2020-02-20 22:43:17  557959415 amazon_reviews_us_Mobile_Apps_v1_00.tsv.gz\n",
      "2020-02-20 22:43:19   22870508 amazon_reviews_us_Mobile_Electronics_v1_00.tsv.gz\n",
      "2020-02-20 22:43:20 1521994296 amazon_reviews_us_Music_v1_00.tsv.gz\n",
      "2020-02-20 22:43:27  193389086 amazon_reviews_us_Musical_Instruments_v1_00.tsv.gz\n",
      "2020-02-20 22:43:28  512323500 amazon_reviews_us_Office_Products_v1_00.tsv.gz\n",
      "2020-02-20 22:43:30  448963100 amazon_reviews_us_Outdoors_v1_00.tsv.gz\n",
      "2020-02-20 22:43:31 1512903923 amazon_reviews_us_PC_v1_00.tsv.gz\n",
      "2020-02-20 22:43:32   17634794 amazon_reviews_us_Personal_Care_Appliances_v1_00.tsv.gz\n",
      "2020-02-20 22:43:33  515815253 amazon_reviews_us_Pet_Products_v1_00.tsv.gz\n",
      "2020-02-20 22:43:40  642255314 amazon_reviews_us_Shoes_v1_00.tsv.gz\n",
      "2020-02-20 22:43:40   94010685 amazon_reviews_us_Software_v1_00.tsv.gz\n",
      "2020-02-20 22:43:43  872478735 amazon_reviews_us_Sports_v1_00.tsv.gz\n",
      "2020-02-20 22:43:45  333782939 amazon_reviews_us_Tools_v1_00.tsv.gz\n",
      "2020-02-20 22:43:53  838451398 amazon_reviews_us_Toys_v1_00.tsv.gz\n",
      "2020-02-20 22:43:54 1512355451 amazon_reviews_us_Video_DVD_v1_00.tsv.gz\n",
      "2020-02-20 22:43:54  475199894 amazon_reviews_us_Video_Games_v1_00.tsv.gz\n",
      "2020-02-20 22:44:03  138929896 amazon_reviews_us_Video_v1_00.tsv.gz\n",
      "2020-02-20 22:44:05  162973819 amazon_reviews_us_Watches_v1_00.tsv.gz\n",
      "2020-02-20 22:44:06 1704713674 amazon_reviews_us_Wireless_v1_00.tsv.gz\n",
      "2020-02-20 22:44:06       6162 index.txt\n",
      "2020-02-20 22:44:06      17553 sample_fr.tsv\n",
      "2020-02-20 22:44:07      15906 sample_us.tsv\n"
     ]
    }
   ],
   "source": [
    "!aws s3 ls $s3_destination_path_tsv/"
   ]
  },
  {
   "cell_type": "code",
   "execution_count": 20,
   "metadata": {},
   "outputs": [
    {
     "name": "stdout",
     "output_type": "stream",
     "text": [
      "delete: s3://sagemaker-us-east-1-806570384721/amazon-reviews-pds/tsv/index.txt\n",
      "delete: s3://sagemaker-us-east-1-806570384721/amazon-reviews-pds/tsv/sample_fr.tsv\n",
      "delete: s3://sagemaker-us-east-1-806570384721/amazon-reviews-pds/tsv/sample_us.tsv\n",
      "delete: s3://sagemaker-us-east-1-806570384721/amazon-reviews-pds/tsv/amazon_reviews_multilingual_DE_v1_00.tsv.gz\n",
      "delete: s3://sagemaker-us-east-1-806570384721/amazon-reviews-pds/tsv/amazon_reviews_multilingual_FR_v1_00.tsv.gz\n",
      "delete: s3://sagemaker-us-east-1-806570384721/amazon-reviews-pds/tsv/amazon_reviews_multilingual_JP_v1_00.tsv.gz\n",
      "delete: s3://sagemaker-us-east-1-806570384721/amazon-reviews-pds/tsv/amazon_reviews_multilingual_UK_v1_00.tsv.gz\n",
      "delete: s3://sagemaker-us-east-1-806570384721/amazon-reviews-pds/tsv/amazon_reviews_multilingual_US_v1_00.tsv.gz\n"
     ]
    }
   ],
   "source": [
    "!aws s3 rm $s3_destination_path_tsv/index.txt\n",
    "!aws s3 rm $s3_destination_path_tsv/sample_fr.tsv\n",
    "!aws s3 rm $s3_destination_path_tsv/sample_us.tsv\n",
    "\n",
    "!aws s3 rm $s3_destination_path_tsv/amazon_reviews_multilingual_DE_v1_00.tsv.gz\n",
    "!aws s3 rm $s3_destination_path_tsv/amazon_reviews_multilingual_FR_v1_00.tsv.gz\n",
    "!aws s3 rm $s3_destination_path_tsv/amazon_reviews_multilingual_JP_v1_00.tsv.gz\n",
    "!aws s3 rm $s3_destination_path_tsv/amazon_reviews_multilingual_UK_v1_00.tsv.gz\n",
    "!aws s3 rm $s3_destination_path_tsv/amazon_reviews_multilingual_US_v1_00.tsv.gz"
   ]
  },
  {
   "cell_type": "code",
   "execution_count": null,
   "metadata": {},
   "outputs": [],
   "source": []
  },
  {
   "cell_type": "markdown",
   "metadata": {},
   "source": [
    "### CONVERT TSV to Parquet (with Athena)"
   ]
  },
  {
   "cell_type": "code",
   "execution_count": 12,
   "metadata": {},
   "outputs": [],
   "source": [
    "# Create Athena database first\n"
   ]
  }
 ],
 "metadata": {
  "kernelspec": {
   "display_name": "conda_python3",
   "language": "python",
   "name": "conda_python3"
  },
  "language_info": {
   "codemirror_mode": {
    "name": "ipython",
    "version": 3
   },
   "file_extension": ".py",
   "mimetype": "text/x-python",
   "name": "python",
   "nbconvert_exporter": "python",
   "pygments_lexer": "ipython3",
   "version": "3.6.5"
  }
 },
 "nbformat": 4,
 "nbformat_minor": 4
}
