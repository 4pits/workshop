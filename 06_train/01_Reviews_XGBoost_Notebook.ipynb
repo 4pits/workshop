{
 "cells": [
  {
   "cell_type": "markdown",
   "metadata": {},
   "source": [
    "Based on these posts: \n",
    "* https://medium.com/@chrisfotache/text-classification-in-python-pipelines-nlp-nltk-tf-idf-xgboost-and-more-b83451a327e0\n",
    "* https://github.com/keisukeirie/Amazon_review_helpfulness_prediction\n",
    "* https://stackabuse.com/text-classification-with-bert-tokenizer-and-tf-2-0-in-python/\n",
    "* https://towardsdatascience.com/simple-bert-using-tensorflow-2-0-132cb19e9b22"
   ]
  },
  {
   "cell_type": "code",
   "execution_count": 1,
   "metadata": {},
   "outputs": [
    {
     "name": "stdout",
     "output_type": "stream",
     "text": [
      "\u001b[31mtensorflow 2.0.0 requires opt-einsum>=2.3.2, which is not installed.\u001b[0m\n",
      "\u001b[31mtensorflow 2.0.0 has requirement gast==0.2.2, but you'll have gast 0.3.3 which is incompatible.\u001b[0m\n",
      "\u001b[31mawscli 1.18.11 has requirement botocore==1.15.11, but you'll have botocore 1.14.17 which is incompatible.\u001b[0m\n",
      "\u001b[33mYou are using pip version 10.0.1, however version 20.0.2 is available.\n",
      "You should consider upgrading via the 'pip install --upgrade pip' command.\u001b[0m\n",
      "\u001b[31mtensorflow 2.0.0 requires opt-einsum>=2.3.2, which is not installed.\u001b[0m\n",
      "\u001b[31mtensorflow 2.0.0 has requirement gast==0.2.2, but you'll have gast 0.3.3 which is incompatible.\u001b[0m\n",
      "\u001b[31mawscli 1.18.11 has requirement botocore==1.15.11, but you'll have botocore 1.14.17 which is incompatible.\u001b[0m\n",
      "\u001b[33mYou are using pip version 10.0.1, however version 20.0.2 is available.\n",
      "You should consider upgrading via the 'pip install --upgrade pip' command.\u001b[0m\n",
      "\u001b[31mtensorflow 2.0.0 requires opt-einsum>=2.3.2, which is not installed.\u001b[0m\n",
      "\u001b[31mtensorflow 2.0.0 has requirement gast==0.2.2, but you'll have gast 0.3.3 which is incompatible.\u001b[0m\n",
      "\u001b[31mawscli 1.18.11 has requirement botocore==1.15.11, but you'll have botocore 1.14.17 which is incompatible.\u001b[0m\n",
      "\u001b[33mYou are using pip version 10.0.1, however version 20.0.2 is available.\n",
      "You should consider upgrading via the 'pip install --upgrade pip' command.\u001b[0m\n",
      "\u001b[31mtensorflow 2.0.0 requires opt-einsum>=2.3.2, which is not installed.\u001b[0m\n",
      "\u001b[31mtensorflow 2.0.0 has requirement gast==0.2.2, but you'll have gast 0.3.3 which is incompatible.\u001b[0m\n",
      "\u001b[31mawscli 1.18.11 has requirement botocore==1.15.11, but you'll have botocore 1.14.17 which is incompatible.\u001b[0m\n",
      "\u001b[33mYou are using pip version 10.0.1, however version 20.0.2 is available.\n",
      "You should consider upgrading via the 'pip install --upgrade pip' command.\u001b[0m\n"
     ]
    }
   ],
   "source": [
    "!pip install -q boto3\n",
    "!pip install -q xgboost==0.90\n",
    "!pip install -q scikit-learn==0.20.3\n",
    "!pip install -q nltk==3.4.5"
   ]
  },
  {
   "cell_type": "code",
   "execution_count": 38,
   "metadata": {},
   "outputs": [],
   "source": [
    "import boto3\n",
    "import sagemaker\n",
    "import pandas as pd\n",
    "\n",
    "sess   = sagemaker.Session()\n",
    "bucket = sess.default_bucket()\n",
    "role = sagemaker.get_execution_role()\n",
    "region = boto3.Session().region_name\n",
    "\n",
    "sm = boto3.Session().client(service_name='sagemaker', region_name=region)"
   ]
  },
  {
   "cell_type": "code",
   "execution_count": 39,
   "metadata": {},
   "outputs": [
    {
     "name": "stdout",
     "output_type": "stream",
     "text": [
      "marketplace\tcustomer_id\treview_id\tproduct_id\tproduct_parent\tproduct_title\tproduct_category\tstar_rating\thelpful_votes\ttotal_votes\tvine\tverified_purchase\treview_headline\treview_body\treview_date\r\n",
      "US\t12190288\tR3FU16928EP5TC\tB00AYB1482\t668895143\tEnlightened: Season 1\tDigital_Video_Download\t5\t0\t0\tN\tY\tI loved it and I wish there was a season 3\tI loved it and I wish there was a season 3... I watched season 2 and loved that as well!\t2015-08-31\r\n",
      "US\t30549954\tR1IZHHS1MH3AQ4\tB00KQD28OM\t246219280\tVicious\tDigital_Video_Download\t5\t0\t0\tN\tY\tAs always it seems that the best shows come from England\tAs always it seems that the best shows come from England. best of the best without words, i cant wait to watch season two.\t2015-08-31\r\n",
      "US\t52895410\tR52R85WC6TIAH\tB01489L5LQ\t534732318\tAfter Words\tDigital_Video_Download\t4\t17\t18\tN\tY\tCharming movie\tThis movie isn't perfect, but it gets a lot of things right. Yes, the librarian character played by Marcia Gay Harden is stereotypical and played a bit heavy-handed. But the universal nature of the story, the beautiful setting, and the likability of the characters overcome this flaw. The quote at the end brought tears to my eyes.  If you want to take a break from Hollywood's standard fare of dark, violent, or stupid movies, then give this a try. It is is entertaining and thoughtful.\t2015-08-31\r\n",
      "US\t27072354\tR7HOOYTVIB0DS\tB008LOVIIK\t239012694\tMasterpiece: Inspector Lewis Season 5\tDigital_Video_Download\t5\t0\t0\tN\tY\tFive Stars\texcellant this is what tv should be\t2015-08-31\r\n",
      "US\t26939022\tR1XQ2N5CDOZGNX\tB0094LZMT0\t535858974\tOn The Waterfront\tDigital_Video_Download\t5\t0\t0\tN\tY\tBrilliant film from beginning to end\tBrilliant film from beginning to end. All of the performances across the board are flawless. Doesn't get much better than this.\t2015-08-31\r\n",
      "US\t4772040\tR1HCST57W334KN\tB0112OSOQE\t38517795\tRick and Morty Season 2\tDigital_Video_Download\t5\t5\t6\tN\tY\tBest show on TV right now\tIf you don't like this show. Go back to your nickelback cd's you heathen\t2015-08-31\r\n",
      "US\t12910040\tR32BUTYQS1ZJBQ\tB000NPE5SA\t373323715\tAfrica Screams\tDigital_Video_Download\t4\t1\t1\tN\tY\tVery funny. A typical mid 50's comedy\tVery funny.  A typical mid 50's comedy.\t2015-08-31\r\n",
      "US\t38805573\tRH4SXPL4L9QU\tB00XWV4QXG\t633842417\tEntourage: Season 7\tDigital_Video_Download\t3\t0\t0\tN\tY\tit was not as good as the series\tStrange as it is, it was not as good as the series.  While it is a good movie, it could have been done better.\t2015-08-31\r\n",
      "US\t37100714\tR37INWIQA5YW8N\tB00X8UKOUK\t666093513\tCatastrophe - Season 1\tDigital_Video_Download\t2\t0\t0\tN\tY\tTwo Stars\tFunny shows! We laughed out loud, alot!\t2015-08-31\r\n"
     ]
    }
   ],
   "source": [
    "!head ./amazon90000.tsv"
   ]
  },
  {
   "cell_type": "code",
   "execution_count": 40,
   "metadata": {},
   "outputs": [
    {
     "data": {
      "text/plain": [
       "(88395, 15)"
      ]
     },
     "execution_count": 40,
     "metadata": {},
     "output_type": "execute_result"
    }
   ],
   "source": [
    "df = pd.read_csv('amazon90000.tsv', delimiter='\\t')\n",
    "df.shape"
   ]
  },
  {
   "cell_type": "code",
   "execution_count": 41,
   "metadata": {
    "scrolled": true
   },
   "outputs": [
    {
     "data": {
      "text/html": [
       "<div>\n",
       "<style scoped>\n",
       "    .dataframe tbody tr th:only-of-type {\n",
       "        vertical-align: middle;\n",
       "    }\n",
       "\n",
       "    .dataframe tbody tr th {\n",
       "        vertical-align: top;\n",
       "    }\n",
       "\n",
       "    .dataframe thead th {\n",
       "        text-align: right;\n",
       "    }\n",
       "</style>\n",
       "<table border=\"1\" class=\"dataframe\">\n",
       "  <thead>\n",
       "    <tr style=\"text-align: right;\">\n",
       "      <th></th>\n",
       "      <th>marketplace</th>\n",
       "      <th>customer_id</th>\n",
       "      <th>review_id</th>\n",
       "      <th>product_id</th>\n",
       "      <th>product_parent</th>\n",
       "      <th>product_title</th>\n",
       "      <th>product_category</th>\n",
       "      <th>star_rating</th>\n",
       "      <th>helpful_votes</th>\n",
       "      <th>total_votes</th>\n",
       "      <th>vine</th>\n",
       "      <th>verified_purchase</th>\n",
       "      <th>review_headline</th>\n",
       "      <th>review_body</th>\n",
       "      <th>review_date</th>\n",
       "    </tr>\n",
       "  </thead>\n",
       "  <tbody>\n",
       "    <tr>\n",
       "      <th>0</th>\n",
       "      <td>US</td>\n",
       "      <td>12190288</td>\n",
       "      <td>R3FU16928EP5TC</td>\n",
       "      <td>B00AYB1482</td>\n",
       "      <td>668895143</td>\n",
       "      <td>Enlightened: Season 1</td>\n",
       "      <td>Digital_Video_Download</td>\n",
       "      <td>5</td>\n",
       "      <td>0</td>\n",
       "      <td>0</td>\n",
       "      <td>N</td>\n",
       "      <td>Y</td>\n",
       "      <td>I loved it and I wish there was a season 3</td>\n",
       "      <td>I loved it and I wish there was a season 3... ...</td>\n",
       "      <td>2015-08-31</td>\n",
       "    </tr>\n",
       "    <tr>\n",
       "      <th>1</th>\n",
       "      <td>US</td>\n",
       "      <td>30549954</td>\n",
       "      <td>R1IZHHS1MH3AQ4</td>\n",
       "      <td>B00KQD28OM</td>\n",
       "      <td>246219280</td>\n",
       "      <td>Vicious</td>\n",
       "      <td>Digital_Video_Download</td>\n",
       "      <td>5</td>\n",
       "      <td>0</td>\n",
       "      <td>0</td>\n",
       "      <td>N</td>\n",
       "      <td>Y</td>\n",
       "      <td>As always it seems that the best shows come fr...</td>\n",
       "      <td>As always it seems that the best shows come fr...</td>\n",
       "      <td>2015-08-31</td>\n",
       "    </tr>\n",
       "    <tr>\n",
       "      <th>2</th>\n",
       "      <td>US</td>\n",
       "      <td>52895410</td>\n",
       "      <td>R52R85WC6TIAH</td>\n",
       "      <td>B01489L5LQ</td>\n",
       "      <td>534732318</td>\n",
       "      <td>After Words</td>\n",
       "      <td>Digital_Video_Download</td>\n",
       "      <td>4</td>\n",
       "      <td>17</td>\n",
       "      <td>18</td>\n",
       "      <td>N</td>\n",
       "      <td>Y</td>\n",
       "      <td>Charming movie</td>\n",
       "      <td>This movie isn't perfect, but it gets a lot of...</td>\n",
       "      <td>2015-08-31</td>\n",
       "    </tr>\n",
       "    <tr>\n",
       "      <th>3</th>\n",
       "      <td>US</td>\n",
       "      <td>27072354</td>\n",
       "      <td>R7HOOYTVIB0DS</td>\n",
       "      <td>B008LOVIIK</td>\n",
       "      <td>239012694</td>\n",
       "      <td>Masterpiece: Inspector Lewis Season 5</td>\n",
       "      <td>Digital_Video_Download</td>\n",
       "      <td>5</td>\n",
       "      <td>0</td>\n",
       "      <td>0</td>\n",
       "      <td>N</td>\n",
       "      <td>Y</td>\n",
       "      <td>Five Stars</td>\n",
       "      <td>excellant this is what tv should be</td>\n",
       "      <td>2015-08-31</td>\n",
       "    </tr>\n",
       "    <tr>\n",
       "      <th>4</th>\n",
       "      <td>US</td>\n",
       "      <td>26939022</td>\n",
       "      <td>R1XQ2N5CDOZGNX</td>\n",
       "      <td>B0094LZMT0</td>\n",
       "      <td>535858974</td>\n",
       "      <td>On The Waterfront</td>\n",
       "      <td>Digital_Video_Download</td>\n",
       "      <td>5</td>\n",
       "      <td>0</td>\n",
       "      <td>0</td>\n",
       "      <td>N</td>\n",
       "      <td>Y</td>\n",
       "      <td>Brilliant film from beginning to end</td>\n",
       "      <td>Brilliant film from beginning to end. All of t...</td>\n",
       "      <td>2015-08-31</td>\n",
       "    </tr>\n",
       "  </tbody>\n",
       "</table>\n",
       "</div>"
      ],
      "text/plain": [
       "  marketplace  customer_id       review_id  product_id  product_parent  \\\n",
       "0          US     12190288  R3FU16928EP5TC  B00AYB1482       668895143   \n",
       "1          US     30549954  R1IZHHS1MH3AQ4  B00KQD28OM       246219280   \n",
       "2          US     52895410   R52R85WC6TIAH  B01489L5LQ       534732318   \n",
       "3          US     27072354   R7HOOYTVIB0DS  B008LOVIIK       239012694   \n",
       "4          US     26939022  R1XQ2N5CDOZGNX  B0094LZMT0       535858974   \n",
       "\n",
       "                           product_title        product_category  star_rating  \\\n",
       "0                  Enlightened: Season 1  Digital_Video_Download            5   \n",
       "1                                Vicious  Digital_Video_Download            5   \n",
       "2                            After Words  Digital_Video_Download            4   \n",
       "3  Masterpiece: Inspector Lewis Season 5  Digital_Video_Download            5   \n",
       "4                      On The Waterfront  Digital_Video_Download            5   \n",
       "\n",
       "   helpful_votes  total_votes vine verified_purchase  \\\n",
       "0              0            0    N                 Y   \n",
       "1              0            0    N                 Y   \n",
       "2             17           18    N                 Y   \n",
       "3              0            0    N                 Y   \n",
       "4              0            0    N                 Y   \n",
       "\n",
       "                                     review_headline  \\\n",
       "0         I loved it and I wish there was a season 3   \n",
       "1  As always it seems that the best shows come fr...   \n",
       "2                                     Charming movie   \n",
       "3                                         Five Stars   \n",
       "4               Brilliant film from beginning to end   \n",
       "\n",
       "                                         review_body review_date  \n",
       "0  I loved it and I wish there was a season 3... ...  2015-08-31  \n",
       "1  As always it seems that the best shows come fr...  2015-08-31  \n",
       "2  This movie isn't perfect, but it gets a lot of...  2015-08-31  \n",
       "3                excellant this is what tv should be  2015-08-31  \n",
       "4  Brilliant film from beginning to end. All of t...  2015-08-31  "
      ]
     },
     "execution_count": 41,
     "metadata": {},
     "output_type": "execute_result"
    }
   ],
   "source": [
    "df.head(5)"
   ]
  },
  {
   "cell_type": "markdown",
   "metadata": {},
   "source": [
    "# Drop any NaNs"
   ]
  },
  {
   "cell_type": "code",
   "execution_count": 42,
   "metadata": {},
   "outputs": [
    {
     "data": {
      "text/plain": [
       "(88395, 15)"
      ]
     },
     "execution_count": 42,
     "metadata": {},
     "output_type": "execute_result"
    }
   ],
   "source": [
    "df.shape"
   ]
  },
  {
   "cell_type": "code",
   "execution_count": 43,
   "metadata": {},
   "outputs": [
    {
     "data": {
      "text/plain": [
       "True"
      ]
     },
     "execution_count": 43,
     "metadata": {},
     "output_type": "execute_result"
    }
   ],
   "source": [
    "df.isna().values.any()"
   ]
  },
  {
   "cell_type": "code",
   "execution_count": 44,
   "metadata": {},
   "outputs": [
    {
     "data": {
      "text/plain": [
       "(88391, 16)"
      ]
     },
     "execution_count": 44,
     "metadata": {},
     "output_type": "execute_result"
    }
   ],
   "source": [
    "df_cleaned_and_filtered = df.dropna()\n",
    "df_cleaned_and_filtered = df_cleaned_and_filtered.reset_index()\n",
    "df_cleaned_and_filtered.shape"
   ]
  },
  {
   "cell_type": "code",
   "execution_count": 45,
   "metadata": {},
   "outputs": [
    {
     "data": {
      "text/plain": [
       "(9301, 16)"
      ]
     },
     "execution_count": 45,
     "metadata": {},
     "output_type": "execute_result"
    }
   ],
   "source": [
    "df_cleaned_and_filtered = df_cleaned_and_filtered.query('helpful_votes > 0')\n",
    "df_cleaned_and_filtered.shape"
   ]
  },
  {
   "cell_type": "code",
   "execution_count": 46,
   "metadata": {},
   "outputs": [
    {
     "data": {
      "text/html": [
       "<div>\n",
       "<style scoped>\n",
       "    .dataframe tbody tr th:only-of-type {\n",
       "        vertical-align: middle;\n",
       "    }\n",
       "\n",
       "    .dataframe tbody tr th {\n",
       "        vertical-align: top;\n",
       "    }\n",
       "\n",
       "    .dataframe thead th {\n",
       "        text-align: right;\n",
       "    }\n",
       "</style>\n",
       "<table border=\"1\" class=\"dataframe\">\n",
       "  <thead>\n",
       "    <tr style=\"text-align: right;\">\n",
       "      <th></th>\n",
       "      <th>index</th>\n",
       "      <th>marketplace</th>\n",
       "      <th>customer_id</th>\n",
       "      <th>review_id</th>\n",
       "      <th>product_id</th>\n",
       "      <th>product_parent</th>\n",
       "      <th>product_title</th>\n",
       "      <th>product_category</th>\n",
       "      <th>star_rating</th>\n",
       "      <th>helpful_votes</th>\n",
       "      <th>total_votes</th>\n",
       "      <th>vine</th>\n",
       "      <th>verified_purchase</th>\n",
       "      <th>review_headline</th>\n",
       "      <th>review_body</th>\n",
       "      <th>review_date</th>\n",
       "    </tr>\n",
       "  </thead>\n",
       "  <tbody>\n",
       "    <tr>\n",
       "      <th>2</th>\n",
       "      <td>2</td>\n",
       "      <td>US</td>\n",
       "      <td>52895410</td>\n",
       "      <td>R52R85WC6TIAH</td>\n",
       "      <td>B01489L5LQ</td>\n",
       "      <td>534732318</td>\n",
       "      <td>After Words</td>\n",
       "      <td>Digital_Video_Download</td>\n",
       "      <td>4</td>\n",
       "      <td>17</td>\n",
       "      <td>18</td>\n",
       "      <td>N</td>\n",
       "      <td>Y</td>\n",
       "      <td>Charming movie</td>\n",
       "      <td>This movie isn't perfect, but it gets a lot of...</td>\n",
       "      <td>2015-08-31</td>\n",
       "    </tr>\n",
       "    <tr>\n",
       "      <th>5</th>\n",
       "      <td>5</td>\n",
       "      <td>US</td>\n",
       "      <td>4772040</td>\n",
       "      <td>R1HCST57W334KN</td>\n",
       "      <td>B0112OSOQE</td>\n",
       "      <td>38517795</td>\n",
       "      <td>Rick and Morty Season 2</td>\n",
       "      <td>Digital_Video_Download</td>\n",
       "      <td>5</td>\n",
       "      <td>5</td>\n",
       "      <td>6</td>\n",
       "      <td>N</td>\n",
       "      <td>Y</td>\n",
       "      <td>Best show on TV right now</td>\n",
       "      <td>If you don't like this show. Go back to your n...</td>\n",
       "      <td>2015-08-31</td>\n",
       "    </tr>\n",
       "    <tr>\n",
       "      <th>6</th>\n",
       "      <td>6</td>\n",
       "      <td>US</td>\n",
       "      <td>12910040</td>\n",
       "      <td>R32BUTYQS1ZJBQ</td>\n",
       "      <td>B000NPE5SA</td>\n",
       "      <td>373323715</td>\n",
       "      <td>Africa Screams</td>\n",
       "      <td>Digital_Video_Download</td>\n",
       "      <td>4</td>\n",
       "      <td>1</td>\n",
       "      <td>1</td>\n",
       "      <td>N</td>\n",
       "      <td>Y</td>\n",
       "      <td>Very funny. A typical mid 50's comedy</td>\n",
       "      <td>Very funny.  A typical mid 50's comedy.</td>\n",
       "      <td>2015-08-31</td>\n",
       "    </tr>\n",
       "    <tr>\n",
       "      <th>18</th>\n",
       "      <td>18</td>\n",
       "      <td>US</td>\n",
       "      <td>47856888</td>\n",
       "      <td>R1ZHHD1GTHGMNK</td>\n",
       "      <td>B005U9RM0W</td>\n",
       "      <td>728197314</td>\n",
       "      <td>Grimm Season 1</td>\n",
       "      <td>Digital_Video_Download</td>\n",
       "      <td>4</td>\n",
       "      <td>1</td>\n",
       "      <td>1</td>\n",
       "      <td>N</td>\n",
       "      <td>Y</td>\n",
       "      <td>If you're a sucker for supernatural series the...</td>\n",
       "      <td>If you're a sucker for supernatural series the...</td>\n",
       "      <td>2015-08-31</td>\n",
       "    </tr>\n",
       "    <tr>\n",
       "      <th>55</th>\n",
       "      <td>55</td>\n",
       "      <td>US</td>\n",
       "      <td>52684121</td>\n",
       "      <td>R203639GCLF7XV</td>\n",
       "      <td>B00MYLVPFM</td>\n",
       "      <td>773772186</td>\n",
       "      <td>Amazing Race 8</td>\n",
       "      <td>Digital_Video_Download</td>\n",
       "      <td>1</td>\n",
       "      <td>5</td>\n",
       "      <td>5</td>\n",
       "      <td>N</td>\n",
       "      <td>Y</td>\n",
       "      <td>Like many other viewers I felt the Family edit...</td>\n",
       "      <td>Like many other viewers I felt the Family edit...</td>\n",
       "      <td>2015-08-31</td>\n",
       "    </tr>\n",
       "  </tbody>\n",
       "</table>\n",
       "</div>"
      ],
      "text/plain": [
       "    index marketplace  customer_id       review_id  product_id  \\\n",
       "2       2          US     52895410   R52R85WC6TIAH  B01489L5LQ   \n",
       "5       5          US      4772040  R1HCST57W334KN  B0112OSOQE   \n",
       "6       6          US     12910040  R32BUTYQS1ZJBQ  B000NPE5SA   \n",
       "18     18          US     47856888  R1ZHHD1GTHGMNK  B005U9RM0W   \n",
       "55     55          US     52684121  R203639GCLF7XV  B00MYLVPFM   \n",
       "\n",
       "    product_parent            product_title        product_category  \\\n",
       "2        534732318              After Words  Digital_Video_Download   \n",
       "5         38517795  Rick and Morty Season 2  Digital_Video_Download   \n",
       "6        373323715           Africa Screams  Digital_Video_Download   \n",
       "18       728197314           Grimm Season 1  Digital_Video_Download   \n",
       "55       773772186           Amazing Race 8  Digital_Video_Download   \n",
       "\n",
       "    star_rating  helpful_votes  total_votes vine verified_purchase  \\\n",
       "2             4             17           18    N                 Y   \n",
       "5             5              5            6    N                 Y   \n",
       "6             4              1            1    N                 Y   \n",
       "18            4              1            1    N                 Y   \n",
       "55            1              5            5    N                 Y   \n",
       "\n",
       "                                      review_headline  \\\n",
       "2                                      Charming movie   \n",
       "5                           Best show on TV right now   \n",
       "6               Very funny. A typical mid 50's comedy   \n",
       "18  If you're a sucker for supernatural series the...   \n",
       "55  Like many other viewers I felt the Family edit...   \n",
       "\n",
       "                                          review_body review_date  \n",
       "2   This movie isn't perfect, but it gets a lot of...  2015-08-31  \n",
       "5   If you don't like this show. Go back to your n...  2015-08-31  \n",
       "6             Very funny.  A typical mid 50's comedy.  2015-08-31  \n",
       "18  If you're a sucker for supernatural series the...  2015-08-31  \n",
       "55  Like many other viewers I felt the Family edit...  2015-08-31  "
      ]
     },
     "execution_count": 46,
     "metadata": {},
     "output_type": "execute_result"
    }
   ],
   "source": [
    "df_cleaned_and_filtered.head(5)"
   ]
  },
  {
   "cell_type": "code",
   "execution_count": 47,
   "metadata": {},
   "outputs": [
    {
     "data": {
      "text/plain": [
       "(9301, 17)"
      ]
     },
     "execution_count": 47,
     "metadata": {},
     "output_type": "execute_result"
    }
   ],
   "source": [
    "df_cleaned_and_filtered['pct_helpful_votes'] = df_cleaned_and_filtered['helpful_votes'] / df_cleaned_and_filtered['total_votes']\n",
    "df_cleaned_and_filtered.shape"
   ]
  },
  {
   "cell_type": "code",
   "execution_count": 48,
   "metadata": {},
   "outputs": [
    {
     "data": {
      "text/html": [
       "<div>\n",
       "<style scoped>\n",
       "    .dataframe tbody tr th:only-of-type {\n",
       "        vertical-align: middle;\n",
       "    }\n",
       "\n",
       "    .dataframe tbody tr th {\n",
       "        vertical-align: top;\n",
       "    }\n",
       "\n",
       "    .dataframe thead th {\n",
       "        text-align: right;\n",
       "    }\n",
       "</style>\n",
       "<table border=\"1\" class=\"dataframe\">\n",
       "  <thead>\n",
       "    <tr style=\"text-align: right;\">\n",
       "      <th></th>\n",
       "      <th>index</th>\n",
       "      <th>marketplace</th>\n",
       "      <th>customer_id</th>\n",
       "      <th>review_id</th>\n",
       "      <th>product_id</th>\n",
       "      <th>product_parent</th>\n",
       "      <th>product_title</th>\n",
       "      <th>product_category</th>\n",
       "      <th>star_rating</th>\n",
       "      <th>helpful_votes</th>\n",
       "      <th>total_votes</th>\n",
       "      <th>vine</th>\n",
       "      <th>verified_purchase</th>\n",
       "      <th>review_headline</th>\n",
       "      <th>review_body</th>\n",
       "      <th>review_date</th>\n",
       "      <th>pct_helpful_votes</th>\n",
       "    </tr>\n",
       "  </thead>\n",
       "  <tbody>\n",
       "    <tr>\n",
       "      <th>2</th>\n",
       "      <td>2</td>\n",
       "      <td>US</td>\n",
       "      <td>52895410</td>\n",
       "      <td>R52R85WC6TIAH</td>\n",
       "      <td>B01489L5LQ</td>\n",
       "      <td>534732318</td>\n",
       "      <td>After Words</td>\n",
       "      <td>Digital_Video_Download</td>\n",
       "      <td>4</td>\n",
       "      <td>17</td>\n",
       "      <td>18</td>\n",
       "      <td>N</td>\n",
       "      <td>Y</td>\n",
       "      <td>Charming movie</td>\n",
       "      <td>This movie isn't perfect, but it gets a lot of...</td>\n",
       "      <td>2015-08-31</td>\n",
       "      <td>0.944444</td>\n",
       "    </tr>\n",
       "    <tr>\n",
       "      <th>5</th>\n",
       "      <td>5</td>\n",
       "      <td>US</td>\n",
       "      <td>4772040</td>\n",
       "      <td>R1HCST57W334KN</td>\n",
       "      <td>B0112OSOQE</td>\n",
       "      <td>38517795</td>\n",
       "      <td>Rick and Morty Season 2</td>\n",
       "      <td>Digital_Video_Download</td>\n",
       "      <td>5</td>\n",
       "      <td>5</td>\n",
       "      <td>6</td>\n",
       "      <td>N</td>\n",
       "      <td>Y</td>\n",
       "      <td>Best show on TV right now</td>\n",
       "      <td>If you don't like this show. Go back to your n...</td>\n",
       "      <td>2015-08-31</td>\n",
       "      <td>0.833333</td>\n",
       "    </tr>\n",
       "    <tr>\n",
       "      <th>6</th>\n",
       "      <td>6</td>\n",
       "      <td>US</td>\n",
       "      <td>12910040</td>\n",
       "      <td>R32BUTYQS1ZJBQ</td>\n",
       "      <td>B000NPE5SA</td>\n",
       "      <td>373323715</td>\n",
       "      <td>Africa Screams</td>\n",
       "      <td>Digital_Video_Download</td>\n",
       "      <td>4</td>\n",
       "      <td>1</td>\n",
       "      <td>1</td>\n",
       "      <td>N</td>\n",
       "      <td>Y</td>\n",
       "      <td>Very funny. A typical mid 50's comedy</td>\n",
       "      <td>Very funny.  A typical mid 50's comedy.</td>\n",
       "      <td>2015-08-31</td>\n",
       "      <td>1.000000</td>\n",
       "    </tr>\n",
       "    <tr>\n",
       "      <th>18</th>\n",
       "      <td>18</td>\n",
       "      <td>US</td>\n",
       "      <td>47856888</td>\n",
       "      <td>R1ZHHD1GTHGMNK</td>\n",
       "      <td>B005U9RM0W</td>\n",
       "      <td>728197314</td>\n",
       "      <td>Grimm Season 1</td>\n",
       "      <td>Digital_Video_Download</td>\n",
       "      <td>4</td>\n",
       "      <td>1</td>\n",
       "      <td>1</td>\n",
       "      <td>N</td>\n",
       "      <td>Y</td>\n",
       "      <td>If you're a sucker for supernatural series the...</td>\n",
       "      <td>If you're a sucker for supernatural series the...</td>\n",
       "      <td>2015-08-31</td>\n",
       "      <td>1.000000</td>\n",
       "    </tr>\n",
       "    <tr>\n",
       "      <th>55</th>\n",
       "      <td>55</td>\n",
       "      <td>US</td>\n",
       "      <td>52684121</td>\n",
       "      <td>R203639GCLF7XV</td>\n",
       "      <td>B00MYLVPFM</td>\n",
       "      <td>773772186</td>\n",
       "      <td>Amazing Race 8</td>\n",
       "      <td>Digital_Video_Download</td>\n",
       "      <td>1</td>\n",
       "      <td>5</td>\n",
       "      <td>5</td>\n",
       "      <td>N</td>\n",
       "      <td>Y</td>\n",
       "      <td>Like many other viewers I felt the Family edit...</td>\n",
       "      <td>Like many other viewers I felt the Family edit...</td>\n",
       "      <td>2015-08-31</td>\n",
       "      <td>1.000000</td>\n",
       "    </tr>\n",
       "  </tbody>\n",
       "</table>\n",
       "</div>"
      ],
      "text/plain": [
       "    index marketplace  customer_id       review_id  product_id  \\\n",
       "2       2          US     52895410   R52R85WC6TIAH  B01489L5LQ   \n",
       "5       5          US      4772040  R1HCST57W334KN  B0112OSOQE   \n",
       "6       6          US     12910040  R32BUTYQS1ZJBQ  B000NPE5SA   \n",
       "18     18          US     47856888  R1ZHHD1GTHGMNK  B005U9RM0W   \n",
       "55     55          US     52684121  R203639GCLF7XV  B00MYLVPFM   \n",
       "\n",
       "    product_parent            product_title        product_category  \\\n",
       "2        534732318              After Words  Digital_Video_Download   \n",
       "5         38517795  Rick and Morty Season 2  Digital_Video_Download   \n",
       "6        373323715           Africa Screams  Digital_Video_Download   \n",
       "18       728197314           Grimm Season 1  Digital_Video_Download   \n",
       "55       773772186           Amazing Race 8  Digital_Video_Download   \n",
       "\n",
       "    star_rating  helpful_votes  total_votes vine verified_purchase  \\\n",
       "2             4             17           18    N                 Y   \n",
       "5             5              5            6    N                 Y   \n",
       "6             4              1            1    N                 Y   \n",
       "18            4              1            1    N                 Y   \n",
       "55            1              5            5    N                 Y   \n",
       "\n",
       "                                      review_headline  \\\n",
       "2                                      Charming movie   \n",
       "5                           Best show on TV right now   \n",
       "6               Very funny. A typical mid 50's comedy   \n",
       "18  If you're a sucker for supernatural series the...   \n",
       "55  Like many other viewers I felt the Family edit...   \n",
       "\n",
       "                                          review_body review_date  \\\n",
       "2   This movie isn't perfect, but it gets a lot of...  2015-08-31   \n",
       "5   If you don't like this show. Go back to your n...  2015-08-31   \n",
       "6             Very funny.  A typical mid 50's comedy.  2015-08-31   \n",
       "18  If you're a sucker for supernatural series the...  2015-08-31   \n",
       "55  Like many other viewers I felt the Family edit...  2015-08-31   \n",
       "\n",
       "    pct_helpful_votes  \n",
       "2            0.944444  \n",
       "5            0.833333  \n",
       "6            1.000000  \n",
       "18           1.000000  \n",
       "55           1.000000  "
      ]
     },
     "execution_count": 48,
     "metadata": {},
     "output_type": "execute_result"
    }
   ],
   "source": [
    "df_cleaned_and_filtered.head(5)"
   ]
  },
  {
   "cell_type": "code",
   "execution_count": 49,
   "metadata": {},
   "outputs": [
    {
     "data": {
      "text/html": [
       "<div>\n",
       "<style scoped>\n",
       "    .dataframe tbody tr th:only-of-type {\n",
       "        vertical-align: middle;\n",
       "    }\n",
       "\n",
       "    .dataframe tbody tr th {\n",
       "        vertical-align: top;\n",
       "    }\n",
       "\n",
       "    .dataframe thead th {\n",
       "        text-align: right;\n",
       "    }\n",
       "</style>\n",
       "<table border=\"1\" class=\"dataframe\">\n",
       "  <thead>\n",
       "    <tr style=\"text-align: right;\">\n",
       "      <th></th>\n",
       "      <th>index</th>\n",
       "      <th>marketplace</th>\n",
       "      <th>customer_id</th>\n",
       "      <th>review_id</th>\n",
       "      <th>product_id</th>\n",
       "      <th>product_parent</th>\n",
       "      <th>product_title</th>\n",
       "      <th>product_category</th>\n",
       "      <th>star_rating</th>\n",
       "      <th>helpful_votes</th>\n",
       "      <th>total_votes</th>\n",
       "      <th>vine</th>\n",
       "      <th>verified_purchase</th>\n",
       "      <th>review_headline</th>\n",
       "      <th>review_body</th>\n",
       "      <th>review_date</th>\n",
       "      <th>pct_helpful_votes</th>\n",
       "      <th>is_helpful</th>\n",
       "    </tr>\n",
       "  </thead>\n",
       "  <tbody>\n",
       "    <tr>\n",
       "      <th>2</th>\n",
       "      <td>2</td>\n",
       "      <td>US</td>\n",
       "      <td>52895410</td>\n",
       "      <td>R52R85WC6TIAH</td>\n",
       "      <td>B01489L5LQ</td>\n",
       "      <td>534732318</td>\n",
       "      <td>After Words</td>\n",
       "      <td>Digital_Video_Download</td>\n",
       "      <td>4</td>\n",
       "      <td>17</td>\n",
       "      <td>18</td>\n",
       "      <td>N</td>\n",
       "      <td>Y</td>\n",
       "      <td>Charming movie</td>\n",
       "      <td>This movie isn't perfect, but it gets a lot of...</td>\n",
       "      <td>2015-08-31</td>\n",
       "      <td>0.944444</td>\n",
       "      <td>True</td>\n",
       "    </tr>\n",
       "    <tr>\n",
       "      <th>5</th>\n",
       "      <td>5</td>\n",
       "      <td>US</td>\n",
       "      <td>4772040</td>\n",
       "      <td>R1HCST57W334KN</td>\n",
       "      <td>B0112OSOQE</td>\n",
       "      <td>38517795</td>\n",
       "      <td>Rick and Morty Season 2</td>\n",
       "      <td>Digital_Video_Download</td>\n",
       "      <td>5</td>\n",
       "      <td>5</td>\n",
       "      <td>6</td>\n",
       "      <td>N</td>\n",
       "      <td>Y</td>\n",
       "      <td>Best show on TV right now</td>\n",
       "      <td>If you don't like this show. Go back to your n...</td>\n",
       "      <td>2015-08-31</td>\n",
       "      <td>0.833333</td>\n",
       "      <td>True</td>\n",
       "    </tr>\n",
       "    <tr>\n",
       "      <th>6</th>\n",
       "      <td>6</td>\n",
       "      <td>US</td>\n",
       "      <td>12910040</td>\n",
       "      <td>R32BUTYQS1ZJBQ</td>\n",
       "      <td>B000NPE5SA</td>\n",
       "      <td>373323715</td>\n",
       "      <td>Africa Screams</td>\n",
       "      <td>Digital_Video_Download</td>\n",
       "      <td>4</td>\n",
       "      <td>1</td>\n",
       "      <td>1</td>\n",
       "      <td>N</td>\n",
       "      <td>Y</td>\n",
       "      <td>Very funny. A typical mid 50's comedy</td>\n",
       "      <td>Very funny.  A typical mid 50's comedy.</td>\n",
       "      <td>2015-08-31</td>\n",
       "      <td>1.000000</td>\n",
       "      <td>True</td>\n",
       "    </tr>\n",
       "    <tr>\n",
       "      <th>18</th>\n",
       "      <td>18</td>\n",
       "      <td>US</td>\n",
       "      <td>47856888</td>\n",
       "      <td>R1ZHHD1GTHGMNK</td>\n",
       "      <td>B005U9RM0W</td>\n",
       "      <td>728197314</td>\n",
       "      <td>Grimm Season 1</td>\n",
       "      <td>Digital_Video_Download</td>\n",
       "      <td>4</td>\n",
       "      <td>1</td>\n",
       "      <td>1</td>\n",
       "      <td>N</td>\n",
       "      <td>Y</td>\n",
       "      <td>If you're a sucker for supernatural series the...</td>\n",
       "      <td>If you're a sucker for supernatural series the...</td>\n",
       "      <td>2015-08-31</td>\n",
       "      <td>1.000000</td>\n",
       "      <td>True</td>\n",
       "    </tr>\n",
       "    <tr>\n",
       "      <th>55</th>\n",
       "      <td>55</td>\n",
       "      <td>US</td>\n",
       "      <td>52684121</td>\n",
       "      <td>R203639GCLF7XV</td>\n",
       "      <td>B00MYLVPFM</td>\n",
       "      <td>773772186</td>\n",
       "      <td>Amazing Race 8</td>\n",
       "      <td>Digital_Video_Download</td>\n",
       "      <td>1</td>\n",
       "      <td>5</td>\n",
       "      <td>5</td>\n",
       "      <td>N</td>\n",
       "      <td>Y</td>\n",
       "      <td>Like many other viewers I felt the Family edit...</td>\n",
       "      <td>Like many other viewers I felt the Family edit...</td>\n",
       "      <td>2015-08-31</td>\n",
       "      <td>1.000000</td>\n",
       "      <td>True</td>\n",
       "    </tr>\n",
       "  </tbody>\n",
       "</table>\n",
       "</div>"
      ],
      "text/plain": [
       "    index marketplace  customer_id       review_id  product_id  \\\n",
       "2       2          US     52895410   R52R85WC6TIAH  B01489L5LQ   \n",
       "5       5          US      4772040  R1HCST57W334KN  B0112OSOQE   \n",
       "6       6          US     12910040  R32BUTYQS1ZJBQ  B000NPE5SA   \n",
       "18     18          US     47856888  R1ZHHD1GTHGMNK  B005U9RM0W   \n",
       "55     55          US     52684121  R203639GCLF7XV  B00MYLVPFM   \n",
       "\n",
       "    product_parent            product_title        product_category  \\\n",
       "2        534732318              After Words  Digital_Video_Download   \n",
       "5         38517795  Rick and Morty Season 2  Digital_Video_Download   \n",
       "6        373323715           Africa Screams  Digital_Video_Download   \n",
       "18       728197314           Grimm Season 1  Digital_Video_Download   \n",
       "55       773772186           Amazing Race 8  Digital_Video_Download   \n",
       "\n",
       "    star_rating  helpful_votes  total_votes vine verified_purchase  \\\n",
       "2             4             17           18    N                 Y   \n",
       "5             5              5            6    N                 Y   \n",
       "6             4              1            1    N                 Y   \n",
       "18            4              1            1    N                 Y   \n",
       "55            1              5            5    N                 Y   \n",
       "\n",
       "                                      review_headline  \\\n",
       "2                                      Charming movie   \n",
       "5                           Best show on TV right now   \n",
       "6               Very funny. A typical mid 50's comedy   \n",
       "18  If you're a sucker for supernatural series the...   \n",
       "55  Like many other viewers I felt the Family edit...   \n",
       "\n",
       "                                          review_body review_date  \\\n",
       "2   This movie isn't perfect, but it gets a lot of...  2015-08-31   \n",
       "5   If you don't like this show. Go back to your n...  2015-08-31   \n",
       "6             Very funny.  A typical mid 50's comedy.  2015-08-31   \n",
       "18  If you're a sucker for supernatural series the...  2015-08-31   \n",
       "55  Like many other viewers I felt the Family edit...  2015-08-31   \n",
       "\n",
       "    pct_helpful_votes  is_helpful  \n",
       "2            0.944444        True  \n",
       "5            0.833333        True  \n",
       "6            1.000000        True  \n",
       "18           1.000000        True  \n",
       "55           1.000000        True  "
      ]
     },
     "execution_count": 49,
     "metadata": {},
     "output_type": "execute_result"
    }
   ],
   "source": [
    "df_cleaned_and_filtered['is_helpful'] = df_cleaned_and_filtered['pct_helpful_votes'] > 0.75\n",
    "df_cleaned_and_filtered.head(5)"
   ]
  },
  {
   "cell_type": "code",
   "execution_count": 50,
   "metadata": {
    "scrolled": true
   },
   "outputs": [
    {
     "data": {
      "text/html": [
       "<div>\n",
       "<style scoped>\n",
       "    .dataframe tbody tr th:only-of-type {\n",
       "        vertical-align: middle;\n",
       "    }\n",
       "\n",
       "    .dataframe tbody tr th {\n",
       "        vertical-align: top;\n",
       "    }\n",
       "\n",
       "    .dataframe thead th {\n",
       "        text-align: right;\n",
       "    }\n",
       "</style>\n",
       "<table border=\"1\" class=\"dataframe\">\n",
       "  <thead>\n",
       "    <tr style=\"text-align: right;\">\n",
       "      <th></th>\n",
       "      <th>index</th>\n",
       "      <th>marketplace</th>\n",
       "      <th>customer_id</th>\n",
       "      <th>review_id</th>\n",
       "      <th>product_id</th>\n",
       "      <th>product_parent</th>\n",
       "      <th>product_title</th>\n",
       "      <th>product_category</th>\n",
       "      <th>star_rating</th>\n",
       "      <th>helpful_votes</th>\n",
       "      <th>total_votes</th>\n",
       "      <th>vine</th>\n",
       "      <th>verified_purchase</th>\n",
       "      <th>review_headline</th>\n",
       "      <th>review_body</th>\n",
       "      <th>review_date</th>\n",
       "      <th>pct_helpful_votes</th>\n",
       "      <th>is_helpful</th>\n",
       "      <th>is_positive_sentiment</th>\n",
       "    </tr>\n",
       "  </thead>\n",
       "  <tbody>\n",
       "    <tr>\n",
       "      <th>2</th>\n",
       "      <td>2</td>\n",
       "      <td>US</td>\n",
       "      <td>52895410</td>\n",
       "      <td>R52R85WC6TIAH</td>\n",
       "      <td>B01489L5LQ</td>\n",
       "      <td>534732318</td>\n",
       "      <td>After Words</td>\n",
       "      <td>Digital_Video_Download</td>\n",
       "      <td>4</td>\n",
       "      <td>17</td>\n",
       "      <td>18</td>\n",
       "      <td>N</td>\n",
       "      <td>Y</td>\n",
       "      <td>Charming movie</td>\n",
       "      <td>This movie isn't perfect, but it gets a lot of...</td>\n",
       "      <td>2015-08-31</td>\n",
       "      <td>0.944444</td>\n",
       "      <td>True</td>\n",
       "      <td>1</td>\n",
       "    </tr>\n",
       "    <tr>\n",
       "      <th>5</th>\n",
       "      <td>5</td>\n",
       "      <td>US</td>\n",
       "      <td>4772040</td>\n",
       "      <td>R1HCST57W334KN</td>\n",
       "      <td>B0112OSOQE</td>\n",
       "      <td>38517795</td>\n",
       "      <td>Rick and Morty Season 2</td>\n",
       "      <td>Digital_Video_Download</td>\n",
       "      <td>5</td>\n",
       "      <td>5</td>\n",
       "      <td>6</td>\n",
       "      <td>N</td>\n",
       "      <td>Y</td>\n",
       "      <td>Best show on TV right now</td>\n",
       "      <td>If you don't like this show. Go back to your n...</td>\n",
       "      <td>2015-08-31</td>\n",
       "      <td>0.833333</td>\n",
       "      <td>True</td>\n",
       "      <td>1</td>\n",
       "    </tr>\n",
       "    <tr>\n",
       "      <th>6</th>\n",
       "      <td>6</td>\n",
       "      <td>US</td>\n",
       "      <td>12910040</td>\n",
       "      <td>R32BUTYQS1ZJBQ</td>\n",
       "      <td>B000NPE5SA</td>\n",
       "      <td>373323715</td>\n",
       "      <td>Africa Screams</td>\n",
       "      <td>Digital_Video_Download</td>\n",
       "      <td>4</td>\n",
       "      <td>1</td>\n",
       "      <td>1</td>\n",
       "      <td>N</td>\n",
       "      <td>Y</td>\n",
       "      <td>Very funny. A typical mid 50's comedy</td>\n",
       "      <td>Very funny.  A typical mid 50's comedy.</td>\n",
       "      <td>2015-08-31</td>\n",
       "      <td>1.000000</td>\n",
       "      <td>True</td>\n",
       "      <td>1</td>\n",
       "    </tr>\n",
       "    <tr>\n",
       "      <th>18</th>\n",
       "      <td>18</td>\n",
       "      <td>US</td>\n",
       "      <td>47856888</td>\n",
       "      <td>R1ZHHD1GTHGMNK</td>\n",
       "      <td>B005U9RM0W</td>\n",
       "      <td>728197314</td>\n",
       "      <td>Grimm Season 1</td>\n",
       "      <td>Digital_Video_Download</td>\n",
       "      <td>4</td>\n",
       "      <td>1</td>\n",
       "      <td>1</td>\n",
       "      <td>N</td>\n",
       "      <td>Y</td>\n",
       "      <td>If you're a sucker for supernatural series the...</td>\n",
       "      <td>If you're a sucker for supernatural series the...</td>\n",
       "      <td>2015-08-31</td>\n",
       "      <td>1.000000</td>\n",
       "      <td>True</td>\n",
       "      <td>1</td>\n",
       "    </tr>\n",
       "    <tr>\n",
       "      <th>55</th>\n",
       "      <td>55</td>\n",
       "      <td>US</td>\n",
       "      <td>52684121</td>\n",
       "      <td>R203639GCLF7XV</td>\n",
       "      <td>B00MYLVPFM</td>\n",
       "      <td>773772186</td>\n",
       "      <td>Amazing Race 8</td>\n",
       "      <td>Digital_Video_Download</td>\n",
       "      <td>1</td>\n",
       "      <td>5</td>\n",
       "      <td>5</td>\n",
       "      <td>N</td>\n",
       "      <td>Y</td>\n",
       "      <td>Like many other viewers I felt the Family edit...</td>\n",
       "      <td>Like many other viewers I felt the Family edit...</td>\n",
       "      <td>2015-08-31</td>\n",
       "      <td>1.000000</td>\n",
       "      <td>True</td>\n",
       "      <td>0</td>\n",
       "    </tr>\n",
       "  </tbody>\n",
       "</table>\n",
       "</div>"
      ],
      "text/plain": [
       "    index marketplace  customer_id       review_id  product_id  \\\n",
       "2       2          US     52895410   R52R85WC6TIAH  B01489L5LQ   \n",
       "5       5          US      4772040  R1HCST57W334KN  B0112OSOQE   \n",
       "6       6          US     12910040  R32BUTYQS1ZJBQ  B000NPE5SA   \n",
       "18     18          US     47856888  R1ZHHD1GTHGMNK  B005U9RM0W   \n",
       "55     55          US     52684121  R203639GCLF7XV  B00MYLVPFM   \n",
       "\n",
       "    product_parent            product_title        product_category  \\\n",
       "2        534732318              After Words  Digital_Video_Download   \n",
       "5         38517795  Rick and Morty Season 2  Digital_Video_Download   \n",
       "6        373323715           Africa Screams  Digital_Video_Download   \n",
       "18       728197314           Grimm Season 1  Digital_Video_Download   \n",
       "55       773772186           Amazing Race 8  Digital_Video_Download   \n",
       "\n",
       "    star_rating  helpful_votes  total_votes vine verified_purchase  \\\n",
       "2             4             17           18    N                 Y   \n",
       "5             5              5            6    N                 Y   \n",
       "6             4              1            1    N                 Y   \n",
       "18            4              1            1    N                 Y   \n",
       "55            1              5            5    N                 Y   \n",
       "\n",
       "                                      review_headline  \\\n",
       "2                                      Charming movie   \n",
       "5                           Best show on TV right now   \n",
       "6               Very funny. A typical mid 50's comedy   \n",
       "18  If you're a sucker for supernatural series the...   \n",
       "55  Like many other viewers I felt the Family edit...   \n",
       "\n",
       "                                          review_body review_date  \\\n",
       "2   This movie isn't perfect, but it gets a lot of...  2015-08-31   \n",
       "5   If you don't like this show. Go back to your n...  2015-08-31   \n",
       "6             Very funny.  A typical mid 50's comedy.  2015-08-31   \n",
       "18  If you're a sucker for supernatural series the...  2015-08-31   \n",
       "55  Like many other viewers I felt the Family edit...  2015-08-31   \n",
       "\n",
       "    pct_helpful_votes  is_helpful  is_positive_sentiment  \n",
       "2            0.944444        True                      1  \n",
       "5            0.833333        True                      1  \n",
       "6            1.000000        True                      1  \n",
       "18           1.000000        True                      1  \n",
       "55           1.000000        True                      0  "
      ]
     },
     "execution_count": 50,
     "metadata": {},
     "output_type": "execute_result"
    }
   ],
   "source": [
    "df_cleaned_and_filtered['is_positive_sentiment'] = (df_cleaned_and_filtered['star_rating'] >= 4).astype(int)\n",
    "df_cleaned_and_filtered.head(5)"
   ]
  },
  {
   "cell_type": "code",
   "execution_count": 51,
   "metadata": {},
   "outputs": [
    {
     "data": {
      "text/plain": [
       "<matplotlib.axes._subplots.AxesSubplot at 0x7ff4ba9220f0>"
      ]
     },
     "execution_count": 51,
     "metadata": {},
     "output_type": "execute_result"
    },
    {
     "data": {
      "image/png": "[encoded data removed]",
      "text/plain": [
       "<Figure size 432x288 with 1 Axes>"
      ]
     },
     "metadata": {},
     "output_type": "display_data"
    }
   ],
   "source": [
    "import seaborn as sns\n",
    "\n",
    "sns.countplot(x='is_positive_sentiment', data=df_cleaned_and_filtered)\n"
   ]
  },
  {
   "cell_type": "markdown",
   "metadata": {},
   "source": [
    "## Balance the dataset"
   ]
  },
  {
   "cell_type": "code",
   "execution_count": 52,
   "metadata": {},
   "outputs": [],
   "source": [
    "from sklearn.utils import resample\n",
    "\n",
    "is_negative_sentiment_df = df_cleaned_and_filtered.query('is_positive_sentiment == 0')\n",
    "is_positive_sentiment_df = df_cleaned_and_filtered.query('is_positive_sentiment == 1')\n",
    "\n",
    "is_positive_downsampled_df = resample(is_positive_sentiment_df,\n",
    "                                      replace = False, # sample without replacement\n",
    "                                      n_samples = len(is_negative_sentiment_df), # match minority n\n",
    "                                      random_state = 27) # reproducible results\n",
    "\n",
    "df_cleaned_and_filtered = pd.concat([is_negative_sentiment_df, is_positive_downsampled_df])\n"
   ]
  },
  {
   "cell_type": "code",
   "execution_count": 53,
   "metadata": {},
   "outputs": [
    {
     "data": {
      "text/plain": [
       "<matplotlib.axes._subplots.AxesSubplot at 0x7ff4bd801dd8>"
      ]
     },
     "execution_count": 53,
     "metadata": {},
     "output_type": "execute_result"
    },
    {
     "data": {
      "image/png": "[encoded data removed]",
      "text/plain": [
       "<Figure size 432x288 with 1 Axes>"
      ]
     },
     "metadata": {},
     "output_type": "display_data"
    }
   ],
   "source": [
    "sns.countplot(x='is_positive_sentiment', data=df_cleaned_and_filtered)\n"
   ]
  },
  {
   "cell_type": "markdown",
   "metadata": {},
   "source": [
    "Create X (features) and y (labels)"
   ]
  },
  {
   "cell_type": "code",
   "execution_count": 54,
   "metadata": {},
   "outputs": [
    {
     "name": "stdout",
     "output_type": "stream",
     "text": [
      "X.shape:  (6894, 1)\n",
      "y.shape:  (6894,)\n"
     ]
    }
   ],
   "source": [
    "X = df_cleaned_and_filtered[['review_body']]\n",
    "y = df_cleaned_and_filtered['is_positive_sentiment']\n",
    "\n",
    "print('X.shape:  {}'.format(X.shape))\n",
    "print('y.shape:  {}'.format(y.shape))"
   ]
  },
  {
   "cell_type": "code",
   "execution_count": 55,
   "metadata": {},
   "outputs": [],
   "source": [
    "from sklearn.model_selection import train_test_split\n",
    "\n",
    "X_train, X_test, y_train, y_test = train_test_split(X, y, test_size=0.10)"
   ]
  },
  {
   "cell_type": "code",
   "execution_count": 56,
   "metadata": {},
   "outputs": [
    {
     "data": {
      "text/html": [
       "<div>\n",
       "<style scoped>\n",
       "    .dataframe tbody tr th:only-of-type {\n",
       "        vertical-align: middle;\n",
       "    }\n",
       "\n",
       "    .dataframe tbody tr th {\n",
       "        vertical-align: top;\n",
       "    }\n",
       "\n",
       "    .dataframe thead th {\n",
       "        text-align: right;\n",
       "    }\n",
       "</style>\n",
       "<table border=\"1\" class=\"dataframe\">\n",
       "  <thead>\n",
       "    <tr style=\"text-align: right;\">\n",
       "      <th></th>\n",
       "      <th>review_body</th>\n",
       "    </tr>\n",
       "  </thead>\n",
       "  <tbody>\n",
       "    <tr>\n",
       "      <th>68139</th>\n",
       "      <td>This is a great horror story - the best part i...</td>\n",
       "    </tr>\n",
       "    <tr>\n",
       "      <th>84433</th>\n",
       "      <td>No great escape.  They just waited for the war...</td>\n",
       "    </tr>\n",
       "    <tr>\n",
       "      <th>46653</th>\n",
       "      <td>It's not top-tier Pixar, but is still good qua...</td>\n",
       "    </tr>\n",
       "    <tr>\n",
       "      <th>66054</th>\n",
       "      <td>I liked it</td>\n",
       "    </tr>\n",
       "    <tr>\n",
       "      <th>20940</th>\n",
       "      <td>Boring... Thought it would be good but after w...</td>\n",
       "    </tr>\n",
       "  </tbody>\n",
       "</table>\n",
       "</div>"
      ],
      "text/plain": [
       "                                             review_body\n",
       "68139  This is a great horror story - the best part i...\n",
       "84433  No great escape.  They just waited for the war...\n",
       "46653  It's not top-tier Pixar, but is still good qua...\n",
       "66054                                         I liked it\n",
       "20940  Boring... Thought it would be good but after w..."
      ]
     },
     "execution_count": 56,
     "metadata": {},
     "output_type": "execute_result"
    }
   ],
   "source": [
    "X_train.head(5)"
   ]
  },
  {
   "cell_type": "code",
   "execution_count": 57,
   "metadata": {},
   "outputs": [
    {
     "data": {
      "text/plain": [
       "68139    1\n",
       "84433    0\n",
       "46653    1\n",
       "66054    1\n",
       "20940    0\n",
       "Name: is_positive_sentiment, dtype: int64"
      ]
     },
     "execution_count": 57,
     "metadata": {},
     "output_type": "execute_result"
    }
   ],
   "source": [
    "y_train.head(5)"
   ]
  },
  {
   "cell_type": "code",
   "execution_count": 58,
   "metadata": {},
   "outputs": [],
   "source": [
    "from sklearn.base import BaseEstimator, TransformerMixin\n",
    "\n",
    "class TextSelector(BaseEstimator, TransformerMixin):\n",
    "    def __init__(self, field):\n",
    "        self.field = field\n",
    "    def fit(self, X, y=None):\n",
    "        return self\n",
    "    def transform(self, X):\n",
    "        return X[self.field]"
   ]
  },
  {
   "cell_type": "code",
   "execution_count": 59,
   "metadata": {},
   "outputs": [],
   "source": [
    "import nltk\n",
    "import re\n",
    "def Tokenizer(str_input):\n",
    "    words = re.sub(r\"[^A-Za-z0-9\\-]\", \" \", str_input).lower().split()\n",
    "    porter_stemmer=nltk.PorterStemmer()\n",
    "    words = [porter_stemmer.stem(word) for word in words]\n",
    "    return words"
   ]
  },
  {
   "cell_type": "markdown",
   "metadata": {},
   "source": [
    "### Create Scikit-Learn Pipeline with XGBoostClassifier"
   ]
  },
  {
   "cell_type": "code",
   "execution_count": 30,
   "metadata": {},
   "outputs": [],
   "source": [
    "from sklearn.pipeline import Pipeline, FeatureUnion\n",
    "from sklearn.feature_extraction.text import TfidfVectorizer\n",
    "from sklearn.preprocessing import StandardScaler\n",
    "from sklearn.decomposition import TruncatedSVD\n",
    "from xgboost import XGBClassifier\n",
    "\n",
    "pipeline = Pipeline([\n",
    "    ('features', FeatureUnion([\n",
    "        ('body', Pipeline([\n",
    "            ('body_text_selector', TextSelector('review_body')),\n",
    "            ('tfidf_vectorizer', TfidfVectorizer(tokenizer=Tokenizer, stop_words=\"english\",\n",
    "                     min_df=.0025, max_df=0.25, ngram_range=(1,3))),\n",
    "            ('svd', TruncatedSVD(algorithm='randomized', n_components=300)), #for XGB\n",
    "        ])),\n",
    "    ])),\n",
    "    ('classifier', XGBClassifier(max_depth=3, n_estimators=300, learning_rate=0.1)),\n",
    "])"
   ]
  },
  {
   "cell_type": "markdown",
   "metadata": {},
   "source": [
    "Fit the model"
   ]
  },
  {
   "cell_type": "code",
   "execution_count": 31,
   "metadata": {
    "scrolled": true
   },
   "outputs": [
    {
     "name": "stderr",
     "output_type": "stream",
     "text": [
      "/home/ec2-user/anaconda3/envs/python3/lib/python3.6/site-packages/sklearn/feature_extraction/text.py:301: UserWarning: Your stop_words may be inconsistent with your preprocessing. Tokenizing the stop words generated tokens ['abov', 'afterward', 'alon', 'alreadi', 'alway', 'ani', 'anoth', 'anyon', 'anyth', 'anywher', 'becam', 'becaus', 'becom', 'befor', 'besid', 'cri', 'describ', 'dure', 'els', 'elsewher', 'empti', 'everi', 'everyon', 'everyth', 'everywher', 'fifti', 'formerli', 'forti', 'ha', 'henc', 'hereaft', 'herebi', 'hi', 'howev', 'hundr', 'inde', 'latterli', 'mani', 'meanwhil', 'moreov', 'mostli', 'nobodi', 'noon', 'noth', 'nowher', 'onc', 'onli', 'otherwis', 'ourselv', 'perhap', 'pleas', 'seriou', 'sever', 'sinc', 'sincer', 'sixti', 'someon', 'someth', 'sometim', 'somewher', 'themselv', 'thenc', 'thereaft', 'therebi', 'therefor', 'thi', 'thu', 'togeth', 'twelv', 'twenti', 'veri', 'wa', 'whatev', 'whenc', 'whenev', 'wherea', 'whereaft', 'wherebi', 'wherev', 'whi', 'yourselv'] not in stop_words.\n",
      "  'stop_words.' % sorted(inconsistent))\n"
     ]
    },
    {
     "data": {
      "text/plain": [
       "Pipeline(memory=None,\n",
       "     steps=[('features', FeatureUnion(n_jobs=None,\n",
       "       transformer_list=[('body', Pipeline(memory=None,\n",
       "     steps=[('body_text_selector', TextSelector(field='review_body')), ('tfidf_vectorizer', TfidfVectorizer(analyzer='word', binary=False, decode_error='strict',\n",
       "        dtype=<class 'numpy.float64'...\n",
       "       reg_lambda=1, scale_pos_weight=1, seed=None, silent=None,\n",
       "       subsample=1, verbosity=1))])"
      ]
     },
     "execution_count": 31,
     "metadata": {},
     "output_type": "execute_result"
    }
   ],
   "source": [
    "pipeline.fit(X_train, y_train)"
   ]
  },
  {
   "cell_type": "code",
   "execution_count": 32,
   "metadata": {},
   "outputs": [
    {
     "data": {
      "image/png": "[encoded data removed]",
      "text/plain": [
       "<Figure size 864x864 with 1 Axes>"
      ]
     },
     "metadata": {},
     "output_type": "display_data"
    }
   ],
   "source": [
    "##\n",
    "# TODO:  https://towardsdatascience.com/xgboost-in-amazon-sagemaker-28e5e354dbcd\n",
    "#        https://gitlab.com/juliensimon/awsdevdays2020/-/blob/master/mls1/XGBoost.ipynb\n",
    "##\n",
    "\n",
    "#plot feature importance\n",
    "\n",
    "import matplotlib.pyplot as plt\n",
    "import xgboost\n",
    "\n",
    "fig, ax = plt.subplots(figsize=(12,12))\n",
    "xgboost.plot_importance(pipeline.steps[1][1], importance_type='gain', max_num_features=30, height=0.8, ax=ax, show_values = True)\n",
    "plt.title('Feature Importance')\n",
    "plt.show()"
   ]
  },
  {
   "cell_type": "code",
   "execution_count": 33,
   "metadata": {},
   "outputs": [
    {
     "name": "stdout",
     "output_type": "stream",
     "text": [
      "Test Accuracy:  0.7840579710144927\n",
      "Test Precision:  [0.77746479 0.79104478]\n"
     ]
    }
   ],
   "source": [
    "from sklearn.metrics import accuracy_score, precision_score, classification_report, confusion_matrix\n",
    "\n",
    "test_preds = pipeline.predict(X_test)\n",
    "\n",
    "print('Test Accuracy: ', accuracy_score(y_test, test_preds))\n",
    "print('Test Precision: ', precision_score(y_test, test_preds, average=None))"
   ]
  },
  {
   "cell_type": "code",
   "execution_count": 34,
   "metadata": {},
   "outputs": [
    {
     "name": "stdout",
     "output_type": "stream",
     "text": [
      "              precision    recall  f1-score   support\n",
      "\n",
      "           0       0.78      0.80      0.79       346\n",
      "           1       0.79      0.77      0.78       344\n",
      "\n",
      "   micro avg       0.78      0.78      0.78       690\n",
      "   macro avg       0.78      0.78      0.78       690\n",
      "weighted avg       0.78      0.78      0.78       690\n",
      "\n"
     ]
    }
   ],
   "source": [
    "print(classification_report(y_test, test_preds))"
   ]
  },
  {
   "cell_type": "code",
   "execution_count": 35,
   "metadata": {},
   "outputs": [
    {
     "data": {
      "text/plain": [
       "array([[276,  70],\n",
       "       [ 79, 265]])"
      ]
     },
     "execution_count": 35,
     "metadata": {},
     "output_type": "execute_result"
    }
   ],
   "source": [
    "df_cm = confusion_matrix(y_test, test_preds)\n",
    "df_cm"
   ]
  },
  {
   "cell_type": "code",
   "execution_count": 36,
   "metadata": {},
   "outputs": [],
   "source": [
    "# TODO:  Explain the classifier"
   ]
  },
  {
   "cell_type": "markdown",
   "metadata": {},
   "source": [
    "# Test Metrics"
   ]
  },
  {
   "cell_type": "code",
   "execution_count": 37,
   "metadata": {},
   "outputs": [
    {
     "data": {
      "image/png": "[encoded data removed]",
      "text/plain": [
       "<Figure size 432x288 with 2 Axes>"
      ]
     },
     "metadata": {},
     "output_type": "display_data"
    }
   ],
   "source": [
    "import seaborn as sn\n",
    "import pandas as pd\n",
    "import matplotlib.pyplot as plt\n",
    "\n",
    "#plt.figure(figsize = (10,7))\n",
    "sn.set(font_scale=1.4) # for label size\n",
    "sn.heatmap(df_cm, annot=True, annot_kws={\"size\": 16}) # font size\n",
    "\n",
    "# TODO:  Add labels to each quadrant (False, True / False, True)\n",
    "\n",
    "plt.show()"
   ]
  },
  {
   "cell_type": "code",
   "execution_count": null,
   "metadata": {},
   "outputs": [],
   "source": []
  },
  {
   "cell_type": "code",
   "execution_count": null,
   "metadata": {},
   "outputs": [],
   "source": []
  }
 ],
 "metadata": {
  "kernelspec": {
   "display_name": "conda_python3",
   "language": "python",
   "name": "conda_python3"
  },
  "language_info": {
   "codemirror_mode": {
    "name": "ipython",
    "version": 3
   },
   "file_extension": ".py",
   "mimetype": "text/x-python",
   "name": "python",
   "nbconvert_exporter": "python",
   "pygments_lexer": "ipython3",
   "version": "3.6.5"
  }
 },
 "nbformat": 4,
 "nbformat_minor": 4
}
